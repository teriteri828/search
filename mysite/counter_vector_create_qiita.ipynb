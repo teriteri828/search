{
 "cells": [
  {
   "cell_type": "code",
   "execution_count": 3,
   "metadata": {},
   "outputs": [
    {
     "output_type": "stream",
     "name": "stdout",
     "text": "200 OK\n200 OK\n200 OK\n200 OK\n200 OK\n200 OK\n200 OK\n200 OK\n200 OK\n200 OK\n200 OK\n200 OK\n200 OK\n200 OK\n200 OK\n200 OK\n200 OK\n200 OK\n200 OK\n200 OK\n200 OK\n200 OK\n200 OK\n200 OK\n200 OK\n200 OK\n200 OK\n200 OK\n200 OK\n200 OK\n200 OK\n200 OK\n200 OK\n200 OK\n200 OK\n200 OK\n200 OK\n200 OK\n200 OK\n200 OK\n200 OK\n200 OK\n200 OK\n200 OK\n200 OK\n200 OK\n200 OK\n200 OK\n200 OK\n200 OK\n200 OK\n200 OK\n200 OK\n200 OK\n200 OK\n200 OK\n200 OK\n200 OK\n200 OK\n200 OK\n200 OK\n200 OK\n200 OK\n200 OK\n200 OK\n200 OK\n200 OK\n200 OK\n200 OK\n200 OK\n200 OK\n200 OK\n200 OK\n200 OK\n200 OK\n200 OK\n200 OK\n200 OK\n200 OK\n200 OK\n200 OK\n200 OK\n200 OK\n200 OK\n200 OK\n200 OK\n200 OK\n200 OK\n200 OK\n200 OK\n200 OK\n200 OK\n200 OK\n200 OK\n200 OK\n200 OK\n200 OK\n200 OK\n200 OK\n200 OK\n"
    }
   ],
   "source": [
    "import http.client\n",
    "import json\n",
    "import pandas as pd\n",
    "\n",
    "qiita_token = \"b40c334a3d7f0a86dbc16f314c522dddefbc8782\"\n",
    "h = {'Authorization': 'Bearer ' + qiita_token}\n",
    "conn = http.client.HTTPSConnection(\"qiita.com\")\n",
    "url = \"/api/v2/items?\"\n",
    "\n",
    "for i in range(100):\n",
    "    i += 1\n",
    "    # Qiita APIで記事情報を取得\n",
    "    page = \"page=\" + str(i)\n",
    "    conn.request(\"GET\", url + page + \"&per_page=100\", headers=h)\n",
    "    res = conn.getresponse()\n",
    "    print(res.status, res.reason)\n",
    "    data = res.read().decode(\"utf-8\")\n",
    "    # CSVに出力\n",
    "    df = pd.read_json(data)\n",
    "    df.to_csv(\"qiita.csv\", columns=[\n",
    "        'likes_count', # いいね数\n",
    "        'created_at', # 作成日時\n",
    "        'title', # 記事タイトル\n",
    "        'url' # 記事URL\n",
    "        ], mode='a', header=False, index=False)"
   ]
  },
  {
   "cell_type": "code",
   "execution_count": 19,
   "metadata": {},
   "outputs": [
    {
     "output_type": "execute_result",
     "data": {
      "text/plain": "'Python を 使っ て OpenCV で 画像 を 『 ガンマ 補正 』 し て み た \\n'"
     },
     "metadata": {},
     "execution_count": 19
    }
   ],
   "source": [
    "import MeCab\n",
    "tagger = MeCab.Tagger(\"-Owakati\")\n",
    "tagger.parse(\"\")\n",
    "csv_input = pd.read_csv(\"qiita.csv\", encoding=\"utf8\", sep=\",\", header=None)\n",
    "title_list = csv_input[2].values.tolist()\n",
    "wakati_title_list = []\n",
    "for title in title_list:\n",
    "    wakati_title_list.append(tagger.parse(title))\n"
   ]
  },
  {
   "cell_type": "code",
   "execution_count": 24,
   "metadata": {},
   "outputs": [
    {
     "output_type": "stream",
     "name": "stdout",
     "text": "\nloaded_model\n10895\n"
    }
   ],
   "source": [
    "from sklearn.feature_extraction.text import CountVectorizer\n",
    "import numpy as np\n",
    "import pickle\n",
    "# ベクトル化する文字列\n",
    "data = np.array(wakati_title_list)\n",
    "\n",
    "# CountVectorizer\n",
    "vec_count = CountVectorizer()\n",
    "\n",
    "# ベクトル化\n",
    "vec_count.fit(data)\n",
    "pkl_vectorizer_path = \"/home/tomoya/django_work/mysite/search/static/ai_model/count_vector/stab.model\"\n",
    "\n",
    "with open(pkl_vectorizer_path, 'wb') as f:\n",
    "    pickle.dump(vec_count, f)\n",
    "\n",
    "loaded_model = pickle.load(open(pkl_vectorizer_path, 'rb'))\n",
    "print(\"\")\n",
    "print(\"loaded_model\")\n",
    "test = ['僕 お前 これ ドライスーツ 私たち 強く 他者 人として 人たち 地球 バイク 自転車 クルマ 自家用車 車両']\n",
    "print(len(loaded_model.transform(test).toarray()[0]))"
   ]
  }
 ],
 "metadata": {
  "language_info": {
   "codemirror_mode": {
    "name": "ipython",
    "version": 3
   },
   "file_extension": ".py",
   "mimetype": "text/x-python",
   "name": "python",
   "nbconvert_exporter": "python",
   "pygments_lexer": "ipython3",
   "version": "3.7.7-final"
  },
  "orig_nbformat": 2,
  "kernelspec": {
   "name": "python37764bit377pyenv951e4ab5f3814cd7a458f4a0fd6a7cce",
   "display_name": "Python 3.7.7 64-bit ('3.7.7': pyenv)"
  }
 },
 "nbformat": 4,
 "nbformat_minor": 2
}