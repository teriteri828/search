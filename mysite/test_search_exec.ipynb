{
 "cells": [
  {
   "cell_type": "code",
   "execution_count": 2,
   "metadata": {},
   "outputs": [],
   "source": [
    "import subprocess\n",
    "black_proc = subprocess.run(['black', './search/views'], capture_output=True)\n",
    "black_proc = subprocess.run(['black', './search/tests'], capture_output=True)\n",
    "isort_proc = subprocess.run(['isort', './search/views'], capture_output=True)\n",
    "isort_proc = subprocess.run(['isort', './search/tests'], capture_output=True)"
   ]
  },
  {
   "cell_type": "code",
   "execution_count": 5,
   "metadata": {},
   "outputs": [
    {
     "output_type": "stream",
     "name": "stdout",
     "text": "System check identified no issues (0 silenced).\n\nCreating test database for alias 'default'...\n...............\n----------------------------------------------------------------------\nRan 15 tests in 18.887s\n\nOK\nDestroying test database for alias 'default'...\n\n"
    }
   ],
   "source": [
    "import subprocess\n",
    "test_python_proc = subprocess.run(['python', 'manage.py', 'test', 'search'], capture_output=True)\n",
    "# proc.stdoutはバイナリなので decode してやると文字列に変換できる\n",
    "print(test_python_proc.stdout.decode('utf-8'))\n",
    "print(test_python_proc.stderr.decode('utf-8'))\n"
   ]
  },
  {
   "cell_type": "code",
   "execution_count": null,
   "metadata": {},
   "outputs": [],
   "source": [
    "from gensim.models import KeyedVectors\n",
    "from search.views.search_words_creater import Word2VecConst\n",
    "\n",
    "word2vec_model = KeyedVectors.load_word2vec_format(\n",
    "        Word2VecConst.MODEL_PATH, binary=True\n",
    "    )\n",
    "word2vec_model.most_similar(\n",
    "            word, topn=Word2VecConst.TOPN\n",
    "        )\n"
   ]
  }
 ],
 "metadata": {
  "kernelspec": {
   "display_name": "Python 3.7.7 64-bit ('3.7.7': pyenv)",
   "language": "python",
   "name": "python37764bit377pyenv951e4ab5f3814cd7a458f4a0fd6a7cce"
  },
  "language_info": {
   "codemirror_mode": {
    "name": "ipython",
    "version": 3
   },
   "file_extension": ".py",
   "mimetype": "text/x-python",
   "name": "python",
   "nbconvert_exporter": "python",
   "pygments_lexer": "ipython3",
   "version": "3.7.7-final"
  }
 },
 "nbformat": 4,
 "nbformat_minor": 4
}